{
 "cells": [
  {
   "cell_type": "markdown",
   "metadata": {},
   "source": [
    "# Disney Rating Text Analysis and Classification\n",
    "## Author Kiana Gonzalez-Rodholm\n",
    "### Part 1"
   ]
  },
  {
   "cell_type": "markdown",
   "metadata": {},
   "source": [
    "As a Cast Member who works for the Walt Disney Company, I often hear my coworkers have the conversation, \"Which resort is better?\" to which there is often a lively discussion of what makes them more favorable. After finding some trip advisor data on three different resorts, I wanted to discover what truly makes the resort most favorable. The data I have found has features such as a 1-5 ranking of satisfaction, review comments, and graphical information regarding the Guests to those who have visited either the Disneyland Resort in California, Hong Kong Resort, or Paris Disneyland. There are over 32,000 entries of data to explore here in this data set. First, I will look at the rankings of each resort to see which one had a higher satisfaction rating, and then use text analysis and extraction as we have learned from previous weeks to find those with positive reviews in their comments. This will give a better understanding of which resort has the highest performance in Guest satisfaction. In order to further solve a realistic business problem, I will also try to predict what review revieved certain ratings and perhaps provide incite as to how that situation could or could have been remedied to prevent the concern from happening again. I am quite certain there are positions in the company currently to try to solve this exact problem, whether by going through each comment individually or by using machine learning techniques as well. I intend to build my own model and analysis to see what truly makes a Disney experience magical. "
   ]
  },
  {
   "cell_type": "code",
   "execution_count": 1,
   "metadata": {},
   "outputs": [
    {
     "data": {
      "text/html": [
       "<div>\n",
       "<style scoped>\n",
       "    .dataframe tbody tr th:only-of-type {\n",
       "        vertical-align: middle;\n",
       "    }\n",
       "\n",
       "    .dataframe tbody tr th {\n",
       "        vertical-align: top;\n",
       "    }\n",
       "\n",
       "    .dataframe thead th {\n",
       "        text-align: right;\n",
       "    }\n",
       "</style>\n",
       "<table border=\"1\" class=\"dataframe\">\n",
       "  <thead>\n",
       "    <tr style=\"text-align: right;\">\n",
       "      <th></th>\n",
       "      <th>Review_ID</th>\n",
       "      <th>Rating</th>\n",
       "      <th>Year_Month</th>\n",
       "      <th>Reviewer_Location</th>\n",
       "      <th>Review_Text</th>\n",
       "      <th>Branch</th>\n",
       "    </tr>\n",
       "  </thead>\n",
       "  <tbody>\n",
       "    <tr>\n",
       "      <th>0</th>\n",
       "      <td>670772142</td>\n",
       "      <td>4</td>\n",
       "      <td>2019-4</td>\n",
       "      <td>Australia</td>\n",
       "      <td>If you've ever been to Disneyland anywhere you...</td>\n",
       "      <td>Disneyland_HongKong</td>\n",
       "    </tr>\n",
       "    <tr>\n",
       "      <th>1</th>\n",
       "      <td>670682799</td>\n",
       "      <td>4</td>\n",
       "      <td>2019-5</td>\n",
       "      <td>Philippines</td>\n",
       "      <td>Its been a while since d last time we visit HK...</td>\n",
       "      <td>Disneyland_HongKong</td>\n",
       "    </tr>\n",
       "    <tr>\n",
       "      <th>2</th>\n",
       "      <td>670623270</td>\n",
       "      <td>4</td>\n",
       "      <td>2019-4</td>\n",
       "      <td>United Arab Emirates</td>\n",
       "      <td>Thanks God it wasn   t too hot or too humid wh...</td>\n",
       "      <td>Disneyland_HongKong</td>\n",
       "    </tr>\n",
       "    <tr>\n",
       "      <th>3</th>\n",
       "      <td>670607911</td>\n",
       "      <td>4</td>\n",
       "      <td>2019-4</td>\n",
       "      <td>Australia</td>\n",
       "      <td>HK Disneyland is a great compact park. Unfortu...</td>\n",
       "      <td>Disneyland_HongKong</td>\n",
       "    </tr>\n",
       "    <tr>\n",
       "      <th>4</th>\n",
       "      <td>670607296</td>\n",
       "      <td>4</td>\n",
       "      <td>2019-4</td>\n",
       "      <td>United Kingdom</td>\n",
       "      <td>the location is not in the city, took around 1...</td>\n",
       "      <td>Disneyland_HongKong</td>\n",
       "    </tr>\n",
       "  </tbody>\n",
       "</table>\n",
       "</div>"
      ],
      "text/plain": [
       "   Review_ID  Rating Year_Month     Reviewer_Location  \\\n",
       "0  670772142       4     2019-4             Australia   \n",
       "1  670682799       4     2019-5           Philippines   \n",
       "2  670623270       4     2019-4  United Arab Emirates   \n",
       "3  670607911       4     2019-4             Australia   \n",
       "4  670607296       4     2019-4        United Kingdom   \n",
       "\n",
       "                                         Review_Text               Branch  \n",
       "0  If you've ever been to Disneyland anywhere you...  Disneyland_HongKong  \n",
       "1  Its been a while since d last time we visit HK...  Disneyland_HongKong  \n",
       "2  Thanks God it wasn   t too hot or too humid wh...  Disneyland_HongKong  \n",
       "3  HK Disneyland is a great compact park. Unfortu...  Disneyland_HongKong  \n",
       "4  the location is not in the city, took around 1...  Disneyland_HongKong  "
      ]
     },
     "execution_count": 1,
     "metadata": {},
     "output_type": "execute_result"
    }
   ],
   "source": [
    "import pandas as pd\n",
    "import matplotlib.pyplot as plt\n",
    "import yellowbrick\n",
    "\n",
    "# load data into a data frame\n",
    "df = pd.read_csv('DisneylandReviews.csv', encoding='latin-1')\n",
    "\n",
    "df.head()"
   ]
  },
  {
   "cell_type": "code",
   "execution_count": 2,
   "metadata": {},
   "outputs": [
    {
     "name": "stdout",
     "output_type": "stream",
     "text": [
      "The dimension of the table is:  (42656, 6)\n"
     ]
    }
   ],
   "source": [
    "# check dimensions of file\n",
    "print(\"The dimension of the table is: \", df.shape)"
   ]
  },
  {
   "cell_type": "code",
   "execution_count": 3,
   "metadata": {},
   "outputs": [
    {
     "data": {
      "image/png": "[encoded data removed]",
      "text/plain": [
       "<Figure size 720x720 with 2 Axes>"
      ]
     },
     "metadata": {},
     "output_type": "display_data"
    }
   ],
   "source": [
    "# create histograms of the data to see if sample size is consistant across parks\n",
    "\n",
    "# set up the figure size\n",
    "plt.rcParams['figure.figsize'] = (10, 10)\n",
    "\n",
    "# make subplots\n",
    "fig, axes = plt.subplots(nrows = 2, ncols = 1)\n",
    "\n",
    "# Specify the features of interest\n",
    "num_features = ['Rating', 'Branch']\n",
    "xaxes = num_features\n",
    "yaxes = ['Counts', 'Counts']\n",
    "\n",
    "# draw histograms\n",
    "axes = axes.ravel()\n",
    "for idx, ax in enumerate(axes):\n",
    "    ax.hist(df[num_features[idx]].dropna(), bins=40)\n",
    "    ax.set_xlabel(xaxes[idx], fontsize=20)\n",
    "    ax.set_ylabel(yaxes[idx], fontsize=20)\n",
    "    ax.tick_params(axis='both', labelsize=15)\n",
    "plt.show()"
   ]
  },
  {
   "cell_type": "markdown",
   "metadata": {},
   "source": [
    "As we can see from these few histograms, the Disney Resorts overall had high ranking, meaning Guests were mostly satisfied with their visit no matter which parks they went to. You can also see that the Disneyland Resort in California tended to have higher rankings than the other resorts. I was surprised to see Hong Kong being lower than Disneyland Paris, as I have heard all great things about Hong Kong, but perhaps the sample size is just smaller. Note that the rankings are in integers and therefore may not reflect an even sampling across resorts. "
   ]
  },
  {
   "cell_type": "code",
   "execution_count": 4,
   "metadata": {},
   "outputs": [
    {
     "data": {
      "text/html": [
       "<div>\n",
       "<style scoped>\n",
       "    .dataframe tbody tr th:only-of-type {\n",
       "        vertical-align: middle;\n",
       "    }\n",
       "\n",
       "    .dataframe tbody tr th {\n",
       "        vertical-align: top;\n",
       "    }\n",
       "\n",
       "    .dataframe thead th {\n",
       "        text-align: right;\n",
       "    }\n",
       "</style>\n",
       "<table border=\"1\" class=\"dataframe\">\n",
       "  <thead>\n",
       "    <tr style=\"text-align: right;\">\n",
       "      <th></th>\n",
       "      <th>Rating</th>\n",
       "      <th>Branch</th>\n",
       "    </tr>\n",
       "  </thead>\n",
       "  <tbody>\n",
       "    <tr>\n",
       "      <th>0</th>\n",
       "      <td>4</td>\n",
       "      <td>Disneyland_HongKong</td>\n",
       "    </tr>\n",
       "    <tr>\n",
       "      <th>1</th>\n",
       "      <td>4</td>\n",
       "      <td>Disneyland_HongKong</td>\n",
       "    </tr>\n",
       "    <tr>\n",
       "      <th>2</th>\n",
       "      <td>4</td>\n",
       "      <td>Disneyland_HongKong</td>\n",
       "    </tr>\n",
       "    <tr>\n",
       "      <th>3</th>\n",
       "      <td>4</td>\n",
       "      <td>Disneyland_HongKong</td>\n",
       "    </tr>\n",
       "    <tr>\n",
       "      <th>4</th>\n",
       "      <td>4</td>\n",
       "      <td>Disneyland_HongKong</td>\n",
       "    </tr>\n",
       "  </tbody>\n",
       "</table>\n",
       "</div>"
      ],
      "text/plain": [
       "   Rating               Branch\n",
       "0       4  Disneyland_HongKong\n",
       "1       4  Disneyland_HongKong\n",
       "2       4  Disneyland_HongKong\n",
       "3       4  Disneyland_HongKong\n",
       "4       4  Disneyland_HongKong"
      ]
     },
     "execution_count": 4,
     "metadata": {},
     "output_type": "execute_result"
    }
   ],
   "source": [
    "# make a subset of the data and transpose it to have rows as columns\n",
    "df1 = df[['Rating', 'Branch']]\n",
    "df1.transpose()\n",
    "df1.head()"
   ]
  },
  {
   "cell_type": "code",
   "execution_count": 5,
   "metadata": {},
   "outputs": [
    {
     "data": {
      "text/plain": [
       "<matplotlib.legend.Legend at 0x288d8593250>"
      ]
     },
     "execution_count": 5,
     "metadata": {},
     "output_type": "execute_result"
    },
    {
     "data": {
      "image/png": "[encoded data removed]",
      "text/plain": [
       "<Figure size 720x720 with 1 Axes>"
      ]
     },
     "metadata": {},
     "output_type": "display_data"
    }
   ],
   "source": [
    "# set up the figure size\n",
    "plt.rcParams['figure.figsize'] = (10, 10)\n",
    "\n",
    "# make the data read to feed into the visulizer\n",
    "rating1 = df1[df1['Rating']==1]['Branch'].value_counts()\n",
    "rating2 = df1[df1['Rating']==2]['Branch'].value_counts()\n",
    "rating3 = df1[df1['Rating']==3]['Branch'].value_counts()\n",
    "rating4 = df1[df1['Rating']==4]['Branch'].value_counts()\n",
    "rating5 = df1[df1['Rating']==5]['Branch'].value_counts()\n",
    "\n",
    "# make the stacked bar plot\n",
    "p1 = plt.bar(rating1.index, rating1.values)\n",
    "p2 = plt.bar(rating2.index, rating2.values, bottom=rating1.values)\n",
    "p3 = plt.bar(rating3.index, rating3.values, bottom=rating2.values)\n",
    "p4 = plt.bar(rating4.index, rating4.values, bottom=rating3.values)\n",
    "p5 = plt.bar(rating5.index, rating5.values, bottom=rating4.values)\n",
    "plt.title('Ratings by Resort', fontsize=25)\n",
    "plt.ylabel('Counts', fontsize=20)\n",
    "plt.tick_params(axis='both', labelsize=15)\n",
    "plt.legend(labels=['1','2','3','4','5'], title = 'Rating:')"
   ]
  },
  {
   "cell_type": "markdown",
   "metadata": {},
   "source": [
    "This graph was the toughest to create but gives us a ton of information. With the stacked bar chart we can now see the distribution of each ranking for each resort. As you can see they all have high 5 star ratings which is indicitive of the histograms above, and we can also see that although Hong Kong has the lowest amount of data, they have the least amount of 1 ratings. All three locations seem to have approximatelty the same amount of 4 and 2 star ratings, but that California has a bit more 3 star ratings and a ton more 5 star ratings than the rest of the resorts. "
   ]
  },
  {
   "cell_type": "code",
   "execution_count": 6,
   "metadata": {},
   "outputs": [
    {
     "data": {
      "image/png": "[encoded data removed]",
      "text/plain": [
       "<Figure size 360x360 with 1 Axes>"
      ]
     },
     "metadata": {},
     "output_type": "display_data"
    }
   ],
   "source": [
    "plt.rcParams['figure.figsize'] = (5, 5)\n",
    "\n",
    "# box plot of Ratings\n",
    "plt.boxplot(df.Rating, vert=True, patch_artist=True)  # patch_artist adds color\n",
    "plt.title('Box Plot of Ratings', fontsize=20)\n",
    "plt.ylabel('Ratings(1-5)', fontsize=15)\n",
    "plt.show()"
   ]
  },
  {
   "cell_type": "markdown",
   "metadata": {},
   "source": [
    "What this box plot shows us is another example of the distribution of all of the ratings for all locations. Most of the data is a between a 3-5 rating and there are small amounts of 1-2 ratings. These are so far outside the mean that they look like outliers from this graph."
   ]
  },
  {
   "cell_type": "code",
   "execution_count": 7,
   "metadata": {},
   "outputs": [
    {
     "data": {
      "text/html": [
       "<div>\n",
       "<style scoped>\n",
       "    .dataframe tbody tr th:only-of-type {\n",
       "        vertical-align: middle;\n",
       "    }\n",
       "\n",
       "    .dataframe tbody tr th {\n",
       "        vertical-align: top;\n",
       "    }\n",
       "\n",
       "    .dataframe thead th {\n",
       "        text-align: right;\n",
       "    }\n",
       "</style>\n",
       "<table border=\"1\" class=\"dataframe\">\n",
       "  <thead>\n",
       "    <tr style=\"text-align: right;\">\n",
       "      <th></th>\n",
       "      <th>Review_ID</th>\n",
       "      <th>Rating</th>\n",
       "      <th>Year_Month</th>\n",
       "      <th>Review_Text</th>\n",
       "      <th>Branch</th>\n",
       "    </tr>\n",
       "    <tr>\n",
       "      <th>Reviewer_Location</th>\n",
       "      <th></th>\n",
       "      <th></th>\n",
       "      <th></th>\n",
       "      <th></th>\n",
       "      <th></th>\n",
       "    </tr>\n",
       "  </thead>\n",
       "  <tbody>\n",
       "    <tr>\n",
       "      <th>Australia</th>\n",
       "      <td>4676</td>\n",
       "      <td>5</td>\n",
       "      <td>109</td>\n",
       "      <td>4676</td>\n",
       "      <td>3</td>\n",
       "    </tr>\n",
       "    <tr>\n",
       "      <th>Canada</th>\n",
       "      <td>2234</td>\n",
       "      <td>5</td>\n",
       "      <td>106</td>\n",
       "      <td>2232</td>\n",
       "      <td>3</td>\n",
       "    </tr>\n",
       "    <tr>\n",
       "      <th>China</th>\n",
       "      <td>181</td>\n",
       "      <td>5</td>\n",
       "      <td>76</td>\n",
       "      <td>181</td>\n",
       "      <td>3</td>\n",
       "    </tr>\n",
       "    <tr>\n",
       "      <th>France</th>\n",
       "      <td>243</td>\n",
       "      <td>5</td>\n",
       "      <td>84</td>\n",
       "      <td>243</td>\n",
       "      <td>3</td>\n",
       "    </tr>\n",
       "    <tr>\n",
       "      <th>Germany</th>\n",
       "      <td>194</td>\n",
       "      <td>5</td>\n",
       "      <td>79</td>\n",
       "      <td>194</td>\n",
       "      <td>3</td>\n",
       "    </tr>\n",
       "  </tbody>\n",
       "</table>\n",
       "</div>"
      ],
      "text/plain": [
       "                   Review_ID  Rating  Year_Month  Review_Text  Branch\n",
       "Reviewer_Location                                                    \n",
       "Australia               4676       5         109         4676       3\n",
       "Canada                  2234       5         106         2232       3\n",
       "China                    181       5          76          181       3\n",
       "France                   243       5          84          243       3\n",
       "Germany                  194       5          79          194       3"
      ]
     },
     "execution_count": 7,
     "metadata": {},
     "output_type": "execute_result"
    }
   ],
   "source": [
    "# remove blanks from countries\n",
    "df['Reviewer_Location'].dropna()\n",
    "\n",
    "# find number of unique locations\n",
    "loc_df = df.groupby('Reviewer_Location').nunique()\n",
    "\n",
    "# remove countries with less than 150 instances to reduce number of entries\n",
    "# used ID since those values are already unique\n",
    "loc_df.drop(loc_df[loc_df['Review_ID']<150].index, inplace = True)\n",
    "loc_df.head()"
   ]
  },
  {
   "cell_type": "code",
   "execution_count": 8,
   "metadata": {},
   "outputs": [
    {
     "data": {
      "image/png": "[encoded data removed]",
      "text/plain": [
       "<Figure size 720x720 with 1 Axes>"
      ]
     },
     "metadata": {},
     "output_type": "display_data"
    }
   ],
   "source": [
    "# set up the figure size\n",
    "plt.rcParams['figure.figsize'] = (10, 10)\n",
    "\n",
    "# histogram of countries (by way of a bar chart)\n",
    "plt.barh(loc_df.index, loc_df.Review_ID)\n",
    "plt.xlabel('Counts', fontsize=20)\n",
    "plt.ylabel('Countries', fontsize=20)\n",
    "plt.tick_params(axis= 'x', labelsize=12)\n",
    "plt.show()"
   ]
  },
  {
   "cell_type": "markdown",
   "metadata": {},
   "source": [
    "We can see here in this bar chart the different distributions of visitors and what countries they have come from. No surprise to see the UK and US being the top two countries where people come from to visit the parks. Australia also has a very high amount of Guests. I know that they often come to the California site quite often since it's the closest for them and they dont have a Disney park in their country. It also makes sense that all of the English speaking contries were the top reviewers as that is the language in which this sample was taken in. There were a lot more countries in this data but in order to see more clearly and visualize the top countries, I removed any countries that had less than 150 entries. Other than those three we can see that Canada, India, New Zealand, Philipines, and Singapore are among the other top contenders."
   ]
  },
  {
   "cell_type": "markdown",
   "metadata": {},
   "source": [
    "#### Overview/Conclusion\n",
    "Overall these graphs give us a pretty good incite into the categorical and numerical variables in this data set. A majority of the ratings for all the Disney locations were positive, with mostly 5 star ratings, with California being the most highly rated. There seems to be the most data collected for California, with Paris and Hong Kong being a bit less. We also were able to look at the different countries of visitors to see where most of the reviews were coming from. It was apparent that the English speaking countries such as the US, UK, Canada, and Australia were among the top reviewers. I have yet to look at the text data for the actual reviews, which will be the focus of the next milestone."
   ]
  },
  {
   "cell_type": "markdown",
   "metadata": {},
   "source": [
    "### Part 2\n",
    "\n",
    "Drop any features not useful for model building. Review ID is dropped because it is an arbitrary number given for each review which has no relevance to the actual review. I also decided to drop the date as although it might be helpful for other projects, the date at which the review was given is not needed for this particular project. "
   ]
  },
  {
   "cell_type": "code",
   "execution_count": 9,
   "metadata": {},
   "outputs": [],
   "source": [
    "# drop ID and date variable \n",
    "df.drop(['Review_ID', 'Year_Month'], axis=1, inplace=True)"
   ]
  },
  {
   "cell_type": "markdown",
   "metadata": {},
   "source": [
    "Drop missing values. There is enough data to drop rows with missing data and still have a good sample size."
   ]
  },
  {
   "cell_type": "code",
   "execution_count": 10,
   "metadata": {},
   "outputs": [
    {
     "data": {
      "text/html": [
       "<div>\n",
       "<style scoped>\n",
       "    .dataframe tbody tr th:only-of-type {\n",
       "        vertical-align: middle;\n",
       "    }\n",
       "\n",
       "    .dataframe tbody tr th {\n",
       "        vertical-align: top;\n",
       "    }\n",
       "\n",
       "    .dataframe thead th {\n",
       "        text-align: right;\n",
       "    }\n",
       "</style>\n",
       "<table border=\"1\" class=\"dataframe\">\n",
       "  <thead>\n",
       "    <tr style=\"text-align: right;\">\n",
       "      <th></th>\n",
       "      <th>Rating</th>\n",
       "      <th>Reviewer_Location</th>\n",
       "      <th>Review_Text</th>\n",
       "      <th>Branch</th>\n",
       "    </tr>\n",
       "  </thead>\n",
       "  <tbody>\n",
       "    <tr>\n",
       "      <th>0</th>\n",
       "      <td>4</td>\n",
       "      <td>Australia</td>\n",
       "      <td>If you've ever been to Disneyland anywhere you...</td>\n",
       "      <td>Disneyland_HongKong</td>\n",
       "    </tr>\n",
       "    <tr>\n",
       "      <th>1</th>\n",
       "      <td>4</td>\n",
       "      <td>Philippines</td>\n",
       "      <td>Its been a while since d last time we visit HK...</td>\n",
       "      <td>Disneyland_HongKong</td>\n",
       "    </tr>\n",
       "    <tr>\n",
       "      <th>2</th>\n",
       "      <td>4</td>\n",
       "      <td>United Arab Emirates</td>\n",
       "      <td>Thanks God it wasn   t too hot or too humid wh...</td>\n",
       "      <td>Disneyland_HongKong</td>\n",
       "    </tr>\n",
       "    <tr>\n",
       "      <th>3</th>\n",
       "      <td>4</td>\n",
       "      <td>Australia</td>\n",
       "      <td>HK Disneyland is a great compact park. Unfortu...</td>\n",
       "      <td>Disneyland_HongKong</td>\n",
       "    </tr>\n",
       "    <tr>\n",
       "      <th>4</th>\n",
       "      <td>4</td>\n",
       "      <td>United Kingdom</td>\n",
       "      <td>the location is not in the city, took around 1...</td>\n",
       "      <td>Disneyland_HongKong</td>\n",
       "    </tr>\n",
       "  </tbody>\n",
       "</table>\n",
       "</div>"
      ],
      "text/plain": [
       "   Rating     Reviewer_Location  \\\n",
       "0       4             Australia   \n",
       "1       4           Philippines   \n",
       "2       4  United Arab Emirates   \n",
       "3       4             Australia   \n",
       "4       4        United Kingdom   \n",
       "\n",
       "                                         Review_Text               Branch  \n",
       "0  If you've ever been to Disneyland anywhere you...  Disneyland_HongKong  \n",
       "1  Its been a while since d last time we visit HK...  Disneyland_HongKong  \n",
       "2  Thanks God it wasn   t too hot or too humid wh...  Disneyland_HongKong  \n",
       "3  HK Disneyland is a great compact park. Unfortu...  Disneyland_HongKong  \n",
       "4  the location is not in the city, took around 1...  Disneyland_HongKong  "
      ]
     },
     "execution_count": 10,
     "metadata": {},
     "output_type": "execute_result"
    }
   ],
   "source": [
    "df.dropna(inplace=True)\n",
    "df.head()"
   ]
  },
  {
   "cell_type": "markdown",
   "metadata": {},
   "source": [
    "Next I will create a new feature from the review text data in order to begin the modeling process. I will remove casing and punctuation."
   ]
  },
  {
   "cell_type": "code",
   "execution_count": 11,
   "metadata": {},
   "outputs": [],
   "source": [
    "# make text data lowercase\n",
    "df['Review_Text'] = df.Review_Text.str.lower()"
   ]
  },
  {
   "cell_type": "code",
   "execution_count": 12,
   "metadata": {},
   "outputs": [
    {
     "data": {
      "text/html": [
       "<div>\n",
       "<style scoped>\n",
       "    .dataframe tbody tr th:only-of-type {\n",
       "        vertical-align: middle;\n",
       "    }\n",
       "\n",
       "    .dataframe tbody tr th {\n",
       "        vertical-align: top;\n",
       "    }\n",
       "\n",
       "    .dataframe thead th {\n",
       "        text-align: right;\n",
       "    }\n",
       "</style>\n",
       "<table border=\"1\" class=\"dataframe\">\n",
       "  <thead>\n",
       "    <tr style=\"text-align: right;\">\n",
       "      <th></th>\n",
       "      <th>Rating</th>\n",
       "      <th>Reviewer_Location</th>\n",
       "      <th>Review_Text</th>\n",
       "      <th>Branch</th>\n",
       "    </tr>\n",
       "  </thead>\n",
       "  <tbody>\n",
       "    <tr>\n",
       "      <th>0</th>\n",
       "      <td>4</td>\n",
       "      <td>Australia</td>\n",
       "      <td>if youve ever been to disneyland anywhere youl...</td>\n",
       "      <td>Disneyland_HongKong</td>\n",
       "    </tr>\n",
       "    <tr>\n",
       "      <th>1</th>\n",
       "      <td>4</td>\n",
       "      <td>Philippines</td>\n",
       "      <td>its been a while since d last time we visit hk...</td>\n",
       "      <td>Disneyland_HongKong</td>\n",
       "    </tr>\n",
       "    <tr>\n",
       "      <th>2</th>\n",
       "      <td>4</td>\n",
       "      <td>United Arab Emirates</td>\n",
       "      <td>thanks god it wasn   t too hot or too humid wh...</td>\n",
       "      <td>Disneyland_HongKong</td>\n",
       "    </tr>\n",
       "    <tr>\n",
       "      <th>3</th>\n",
       "      <td>4</td>\n",
       "      <td>Australia</td>\n",
       "      <td>hk disneyland is a great compact park unfortun...</td>\n",
       "      <td>Disneyland_HongKong</td>\n",
       "    </tr>\n",
       "    <tr>\n",
       "      <th>4</th>\n",
       "      <td>4</td>\n",
       "      <td>United Kingdom</td>\n",
       "      <td>the location is not in the city took around 1 ...</td>\n",
       "      <td>Disneyland_HongKong</td>\n",
       "    </tr>\n",
       "  </tbody>\n",
       "</table>\n",
       "</div>"
      ],
      "text/plain": [
       "   Rating     Reviewer_Location  \\\n",
       "0       4             Australia   \n",
       "1       4           Philippines   \n",
       "2       4  United Arab Emirates   \n",
       "3       4             Australia   \n",
       "4       4        United Kingdom   \n",
       "\n",
       "                                         Review_Text               Branch  \n",
       "0  if youve ever been to disneyland anywhere youl...  Disneyland_HongKong  \n",
       "1  its been a while since d last time we visit hk...  Disneyland_HongKong  \n",
       "2  thanks god it wasn   t too hot or too humid wh...  Disneyland_HongKong  \n",
       "3  hk disneyland is a great compact park unfortun...  Disneyland_HongKong  \n",
       "4  the location is not in the city took around 1 ...  Disneyland_HongKong  "
      ]
     },
     "execution_count": 12,
     "metadata": {},
     "output_type": "execute_result"
    }
   ],
   "source": [
    "# remove punctuation\n",
    "import unicodedata\n",
    "import sys\n",
    "\n",
    "# Create a dictionary of punctuation characters\n",
    "punctuation = dict.fromkeys(i for i in range(sys.maxunicode)\n",
    "                            if unicodedata.category(chr(i)).startswith('P'))\n",
    "\n",
    "# For each string, remove any punctuation characters\n",
    "df['Review_Text'] = [string.translate(punctuation) for string in df['Review_Text']]\n",
    "\n",
    "df.head()"
   ]
  },
  {
   "cell_type": "markdown",
   "metadata": {},
   "source": [
    "Having this cleaned data will allow me to further analyze the text data for the next milestone."
   ]
  },
  {
   "cell_type": "markdown",
   "metadata": {},
   "source": [
    "### Part 3"
   ]
  },
  {
   "cell_type": "markdown",
   "metadata": {},
   "source": [
    "After working on some of the exercises for the week, I noticed how there was a very similar parallels between the assignment and my data. We had a categorical rating system that we wanted to see if we could predict the rating based off of some text based data or reviews. This is exactly what we have here in this case as well. So in order to predict which rating a Disney Resort will get based on the reviews, we will use a few machine learning algorithms to find a good model for the data. We wil start by converting each text entry into a TFIDF vector in order to place into the model."
   ]
  },
  {
   "cell_type": "code",
   "execution_count": 13,
   "metadata": {},
   "outputs": [],
   "source": [
    "# convert each entry into a term frequency-inverse document frequency (tfidf) vector\n",
    "import numpy as np\n",
    "from sklearn.feature_extraction.text import TfidfVectorizer\n",
    "\n",
    "# get sample from text\n",
    "sample = df.Review_Text.sample(n=500)\n",
    "text_data = np.array(sample)\n",
    "\n",
    "# Create the tf-idf feature matrix\n",
    "tfidf = TfidfVectorizer()\n",
    "tfidf_matrix = tfidf.fit_transform(text_data)\n",
    "\n",
    "# view tf-idf feature matrix to a dense matrix\n",
    "tfidf_matrix = tfidf_matrix.toarray()"
   ]
  },
  {
   "cell_type": "markdown",
   "metadata": {},
   "source": [
    "Next we will place the TFIDF matrix into the Naive Bayes classifier which is one of the more common machine learning algorithms just to see what we can gather from this model. "
   ]
  },
  {
   "cell_type": "code",
   "execution_count": 14,
   "metadata": {},
   "outputs": [
    {
     "data": {
      "text/plain": [
       "0.568"
      ]
     },
     "execution_count": 14,
     "metadata": {},
     "output_type": "execute_result"
    }
   ],
   "source": [
    "# start with a Naive Bayes Classifier\n",
    "from sklearn.naive_bayes import MultinomialNB\n",
    "\n",
    "y_test = df.Rating.sample(n=500)\n",
    "nn1 = MultinomialNB().fit(tfidf_matrix, y_test)\n",
    "\n",
    "# mean of model\n",
    "predicted = nn1.predict(tfidf_matrix)\n",
    "np.mean(predicted == y_test)"
   ]
  },
  {
   "cell_type": "code",
   "execution_count": 15,
   "metadata": {},
   "outputs": [
    {
     "name": "stdout",
     "output_type": "stream",
     "text": [
      "[[  0   0   0   0  12]\n",
      " [  0   0   0   0  25]\n",
      " [  0   0   0   0  51]\n",
      " [  0   0   0   0 128]\n",
      " [  0   0   0   0 284]]\n"
     ]
    }
   ],
   "source": [
    "from sklearn.metrics import classification_report,confusion_matrix\n",
    "\n",
    "# shows confusion matrix\n",
    "print(confusion_matrix(y_test, predicted))"
   ]
  },
  {
   "cell_type": "code",
   "execution_count": 16,
   "metadata": {},
   "outputs": [
    {
     "name": "stdout",
     "output_type": "stream",
     "text": [
      "              precision    recall  f1-score   support\n",
      "\n",
      "           1       0.00      0.00      0.00        12\n",
      "           2       0.00      0.00      0.00        25\n",
      "           3       0.00      0.00      0.00        51\n",
      "           4       0.00      0.00      0.00       128\n",
      "           5       0.57      1.00      0.72       284\n",
      "\n",
      "    accuracy                           0.57       500\n",
      "   macro avg       0.11      0.20      0.14       500\n",
      "weighted avg       0.32      0.57      0.41       500\n",
      "\n"
     ]
    },
    {
     "name": "stderr",
     "output_type": "stream",
     "text": [
      "C:\\Users\\krodh\\anaconda3\\lib\\site-packages\\sklearn\\metrics\\_classification.py:1221: UndefinedMetricWarning: Precision and F-score are ill-defined and being set to 0.0 in labels with no predicted samples. Use `zero_division` parameter to control this behavior.\n",
      "  _warn_prf(average, modifier, msg_start, len(result))\n"
     ]
    }
   ],
   "source": [
    "# shows accuracy, precision, recall, f-1 score\n",
    "print(classification_report(y_test, predicted))"
   ]
  },
  {
   "cell_type": "markdown",
   "metadata": {},
   "source": [
    "As we can see the Naive Bayes model was only a little over 50% effective at predicting the rating based off of the text review. Next we will try the support vector machines (SVM) algorithm to get a better result. I decided to try this algorithm because it provded us with a better result in the homework assignment as well. "
   ]
  },
  {
   "cell_type": "code",
   "execution_count": 17,
   "metadata": {},
   "outputs": [
    {
     "data": {
      "text/plain": [
       "0.988"
      ]
     },
     "execution_count": 17,
     "metadata": {},
     "output_type": "execute_result"
    }
   ],
   "source": [
    "# now let's try a SVM algorthim\n",
    "from sklearn.linear_model import SGDClassifier\n",
    "\n",
    "nn2 = SGDClassifier(loss='hinge', penalty='l2', alpha=1e-3, random_state=42).fit(tfidf_matrix, y_test)\n",
    "\n",
    "# mean of model\n",
    "predicted2 = nn2.predict(tfidf_matrix)\n",
    "np.mean(predicted2 == y_test)"
   ]
  },
  {
   "cell_type": "code",
   "execution_count": 18,
   "metadata": {},
   "outputs": [
    {
     "name": "stdout",
     "output_type": "stream",
     "text": [
      "[[ 11   0   0   0   1]\n",
      " [  0  25   0   0   0]\n",
      " [  0   0  51   0   0]\n",
      " [  0   0   0 123   5]\n",
      " [  0   0   0   0 284]]\n"
     ]
    }
   ],
   "source": [
    "# shows confusion matrix\n",
    "print(confusion_matrix(y_test, predicted2))"
   ]
  },
  {
   "cell_type": "code",
   "execution_count": 19,
   "metadata": {},
   "outputs": [
    {
     "name": "stdout",
     "output_type": "stream",
     "text": [
      "              precision    recall  f1-score   support\n",
      "\n",
      "           1       1.00      0.92      0.96        12\n",
      "           2       1.00      1.00      1.00        25\n",
      "           3       1.00      1.00      1.00        51\n",
      "           4       1.00      0.96      0.98       128\n",
      "           5       0.98      1.00      0.99       284\n",
      "\n",
      "    accuracy                           0.99       500\n",
      "   macro avg       1.00      0.98      0.99       500\n",
      "weighted avg       0.99      0.99      0.99       500\n",
      "\n"
     ]
    }
   ],
   "source": [
    "# shows accuracy, precision, recall, f-1 score\n",
    "print(classification_report(y_test, predicted2))"
   ]
  },
  {
   "cell_type": "markdown",
   "metadata": {},
   "source": [
    "#### Overview/Conclusion\n",
    "As we can see the SVM algorithm was a much better model than Naive Bayes in predicting the rating based off of the text reviews. We have almost 100% accuracy therefore this is a near perfect machine learning model. We do have a smaller sample size, so it's possible that a larger sample size would make the model less effective. For Milestone 4 I will continue to explore more methods and fine-tune some of my existing analysis."
   ]
  },
  {
   "cell_type": "markdown",
   "metadata": {},
   "source": [
    "### Part 4\n",
    "To begin, I wanted to make the last graph a horizontal bar graph instead to make the countries and results more visible, so I went back to milestone 1 and adjusted that graph appropriately. I also limited the countries shown to a smaller amount as to only show the top countries found and not clutter up the graph. I also wanted to test to see if the SVM algorithm would still perform just as well with a larger sample than 500."
   ]
  },
  {
   "cell_type": "code",
   "execution_count": 20,
   "metadata": {},
   "outputs": [
    {
     "data": {
      "text/plain": [
       "0.5358"
      ]
     },
     "execution_count": 20,
     "metadata": {},
     "output_type": "execute_result"
    }
   ],
   "source": [
    "# create a larger tf-idf feature matrix and rerun the SVM model\n",
    "\n",
    "# get sample from text\n",
    "y_test2 = df.Rating.sample(n=5000)\n",
    "sample2 = df.Review_Text.sample(n=5000)\n",
    "text_data2 = np.array(sample2)\n",
    "\n",
    "# Create the tf-idf feature matrix\n",
    "tfidf = TfidfVectorizer()\n",
    "tfidf_matrix2 = tfidf.fit_transform(text_data2)\n",
    "\n",
    "# view tf-idf feature matrix to a dense matrix\n",
    "tfidf_matrix2 = tfidf_matrix2.toarray()\n",
    "\n",
    "# SVM model\n",
    "nn3 = SGDClassifier(loss='hinge', penalty='l2', alpha=1e-3, random_state=42).fit(tfidf_matrix2, y_test2)\n",
    "\n",
    "# mean of model\n",
    "predicted3 = nn3.predict(tfidf_matrix2)\n",
    "np.mean(predicted3 == y_test2)"
   ]
  },
  {
   "cell_type": "code",
   "execution_count": 21,
   "metadata": {},
   "outputs": [
    {
     "name": "stdout",
     "output_type": "stream",
     "text": [
      "[[   0    0    0    0  174]\n",
      " [   0    0    0    0  238]\n",
      " [   0    0    0    0  596]\n",
      " [   0    0    0    0 1313]\n",
      " [   0    0    0    0 2679]]\n"
     ]
    }
   ],
   "source": [
    "# shows confusion matrix\n",
    "print(confusion_matrix(y_test2, predicted3))"
   ]
  },
  {
   "cell_type": "code",
   "execution_count": 22,
   "metadata": {},
   "outputs": [
    {
     "name": "stdout",
     "output_type": "stream",
     "text": [
      "              precision    recall  f1-score   support\n",
      "\n",
      "           1       0.00      0.00      0.00       174\n",
      "           2       0.00      0.00      0.00       238\n",
      "           3       0.00      0.00      0.00       596\n",
      "           4       0.00      0.00      0.00      1313\n",
      "           5       0.54      1.00      0.70      2679\n",
      "\n",
      "    accuracy                           0.54      5000\n",
      "   macro avg       0.11      0.20      0.14      5000\n",
      "weighted avg       0.29      0.54      0.37      5000\n",
      "\n"
     ]
    },
    {
     "name": "stderr",
     "output_type": "stream",
     "text": [
      "C:\\Users\\krodh\\anaconda3\\lib\\site-packages\\sklearn\\metrics\\_classification.py:1221: UndefinedMetricWarning: Precision and F-score are ill-defined and being set to 0.0 in labels with no predicted samples. Use `zero_division` parameter to control this behavior.\n",
      "  _warn_prf(average, modifier, msg_start, len(result))\n"
     ]
    }
   ],
   "source": [
    "# shows accuracy, precision, recall, f-1 score\n",
    "print(classification_report(y_test2, predicted3))"
   ]
  },
  {
   "cell_type": "markdown",
   "metadata": {},
   "source": [
    "As we can see the model is less effective on a larger sample size of the data, performing pretty much identically to the Naive Bayes algorithm in the first example with only around 50% accuracy. I decided then to further explore other models to see if there was a better fit for the large data set. I decided to then try a Keras model, and in order to do that I started by one-hot encoding the categorical variables. "
   ]
  },
  {
   "cell_type": "code",
   "execution_count": 23,
   "metadata": {},
   "outputs": [
    {
     "data": {
      "text/html": [
       "<div>\n",
       "<style scoped>\n",
       "    .dataframe tbody tr th:only-of-type {\n",
       "        vertical-align: middle;\n",
       "    }\n",
       "\n",
       "    .dataframe tbody tr th {\n",
       "        vertical-align: top;\n",
       "    }\n",
       "\n",
       "    .dataframe thead th {\n",
       "        text-align: right;\n",
       "    }\n",
       "</style>\n",
       "<table border=\"1\" class=\"dataframe\">\n",
       "  <thead>\n",
       "    <tr style=\"text-align: right;\">\n",
       "      <th></th>\n",
       "      <th>Rating</th>\n",
       "      <th>Reviewer_Location</th>\n",
       "      <th>Review_Text</th>\n",
       "      <th>Branch</th>\n",
       "      <th>1</th>\n",
       "      <th>2</th>\n",
       "      <th>3</th>\n",
       "      <th>4</th>\n",
       "      <th>5</th>\n",
       "    </tr>\n",
       "  </thead>\n",
       "  <tbody>\n",
       "    <tr>\n",
       "      <th>0</th>\n",
       "      <td>4</td>\n",
       "      <td>Australia</td>\n",
       "      <td>if youve ever been to disneyland anywhere youl...</td>\n",
       "      <td>Disneyland_HongKong</td>\n",
       "      <td>0</td>\n",
       "      <td>0</td>\n",
       "      <td>0</td>\n",
       "      <td>1</td>\n",
       "      <td>0</td>\n",
       "    </tr>\n",
       "    <tr>\n",
       "      <th>1</th>\n",
       "      <td>4</td>\n",
       "      <td>Philippines</td>\n",
       "      <td>its been a while since d last time we visit hk...</td>\n",
       "      <td>Disneyland_HongKong</td>\n",
       "      <td>0</td>\n",
       "      <td>0</td>\n",
       "      <td>0</td>\n",
       "      <td>1</td>\n",
       "      <td>0</td>\n",
       "    </tr>\n",
       "    <tr>\n",
       "      <th>2</th>\n",
       "      <td>4</td>\n",
       "      <td>United Arab Emirates</td>\n",
       "      <td>thanks god it wasn   t too hot or too humid wh...</td>\n",
       "      <td>Disneyland_HongKong</td>\n",
       "      <td>0</td>\n",
       "      <td>0</td>\n",
       "      <td>0</td>\n",
       "      <td>1</td>\n",
       "      <td>0</td>\n",
       "    </tr>\n",
       "    <tr>\n",
       "      <th>3</th>\n",
       "      <td>4</td>\n",
       "      <td>Australia</td>\n",
       "      <td>hk disneyland is a great compact park unfortun...</td>\n",
       "      <td>Disneyland_HongKong</td>\n",
       "      <td>0</td>\n",
       "      <td>0</td>\n",
       "      <td>0</td>\n",
       "      <td>1</td>\n",
       "      <td>0</td>\n",
       "    </tr>\n",
       "    <tr>\n",
       "      <th>4</th>\n",
       "      <td>4</td>\n",
       "      <td>United Kingdom</td>\n",
       "      <td>the location is not in the city took around 1 ...</td>\n",
       "      <td>Disneyland_HongKong</td>\n",
       "      <td>0</td>\n",
       "      <td>0</td>\n",
       "      <td>0</td>\n",
       "      <td>1</td>\n",
       "      <td>0</td>\n",
       "    </tr>\n",
       "    <tr>\n",
       "      <th>...</th>\n",
       "      <td>...</td>\n",
       "      <td>...</td>\n",
       "      <td>...</td>\n",
       "      <td>...</td>\n",
       "      <td>...</td>\n",
       "      <td>...</td>\n",
       "      <td>...</td>\n",
       "      <td>...</td>\n",
       "      <td>...</td>\n",
       "    </tr>\n",
       "    <tr>\n",
       "      <th>42651</th>\n",
       "      <td>5</td>\n",
       "      <td>United Kingdom</td>\n",
       "      <td>i went to disneyland paris in july 03 and thou...</td>\n",
       "      <td>Disneyland_Paris</td>\n",
       "      <td>0</td>\n",
       "      <td>0</td>\n",
       "      <td>0</td>\n",
       "      <td>0</td>\n",
       "      <td>1</td>\n",
       "    </tr>\n",
       "    <tr>\n",
       "      <th>42652</th>\n",
       "      <td>5</td>\n",
       "      <td>Canada</td>\n",
       "      <td>2 adults and 1 child of 11 visited disneyland ...</td>\n",
       "      <td>Disneyland_Paris</td>\n",
       "      <td>0</td>\n",
       "      <td>0</td>\n",
       "      <td>0</td>\n",
       "      <td>0</td>\n",
       "      <td>1</td>\n",
       "    </tr>\n",
       "    <tr>\n",
       "      <th>42653</th>\n",
       "      <td>5</td>\n",
       "      <td>South Africa</td>\n",
       "      <td>my eleven year old daughter and myself went to...</td>\n",
       "      <td>Disneyland_Paris</td>\n",
       "      <td>0</td>\n",
       "      <td>0</td>\n",
       "      <td>0</td>\n",
       "      <td>0</td>\n",
       "      <td>1</td>\n",
       "    </tr>\n",
       "    <tr>\n",
       "      <th>42654</th>\n",
       "      <td>4</td>\n",
       "      <td>United States</td>\n",
       "      <td>this hotel part of the disneyland paris comple...</td>\n",
       "      <td>Disneyland_Paris</td>\n",
       "      <td>0</td>\n",
       "      <td>0</td>\n",
       "      <td>0</td>\n",
       "      <td>1</td>\n",
       "      <td>0</td>\n",
       "    </tr>\n",
       "    <tr>\n",
       "      <th>42655</th>\n",
       "      <td>4</td>\n",
       "      <td>United Kingdom</td>\n",
       "      <td>i went to the disneyparis resort in 1996 with ...</td>\n",
       "      <td>Disneyland_Paris</td>\n",
       "      <td>0</td>\n",
       "      <td>0</td>\n",
       "      <td>0</td>\n",
       "      <td>1</td>\n",
       "      <td>0</td>\n",
       "    </tr>\n",
       "  </tbody>\n",
       "</table>\n",
       "<p>42656 rows × 9 columns</p>\n",
       "</div>"
      ],
      "text/plain": [
       "       Rating     Reviewer_Location  \\\n",
       "0           4             Australia   \n",
       "1           4           Philippines   \n",
       "2           4  United Arab Emirates   \n",
       "3           4             Australia   \n",
       "4           4        United Kingdom   \n",
       "...       ...                   ...   \n",
       "42651       5        United Kingdom   \n",
       "42652       5                Canada   \n",
       "42653       5          South Africa   \n",
       "42654       4         United States   \n",
       "42655       4        United Kingdom   \n",
       "\n",
       "                                             Review_Text               Branch  \\\n",
       "0      if youve ever been to disneyland anywhere youl...  Disneyland_HongKong   \n",
       "1      its been a while since d last time we visit hk...  Disneyland_HongKong   \n",
       "2      thanks god it wasn   t too hot or too humid wh...  Disneyland_HongKong   \n",
       "3      hk disneyland is a great compact park unfortun...  Disneyland_HongKong   \n",
       "4      the location is not in the city took around 1 ...  Disneyland_HongKong   \n",
       "...                                                  ...                  ...   \n",
       "42651  i went to disneyland paris in july 03 and thou...     Disneyland_Paris   \n",
       "42652  2 adults and 1 child of 11 visited disneyland ...     Disneyland_Paris   \n",
       "42653  my eleven year old daughter and myself went to...     Disneyland_Paris   \n",
       "42654  this hotel part of the disneyland paris comple...     Disneyland_Paris   \n",
       "42655  i went to the disneyparis resort in 1996 with ...     Disneyland_Paris   \n",
       "\n",
       "       1  2  3  4  5  \n",
       "0      0  0  0  1  0  \n",
       "1      0  0  0  1  0  \n",
       "2      0  0  0  1  0  \n",
       "3      0  0  0  1  0  \n",
       "4      0  0  0  1  0  \n",
       "...   .. .. .. .. ..  \n",
       "42651  0  0  0  0  1  \n",
       "42652  0  0  0  0  1  \n",
       "42653  0  0  0  0  1  \n",
       "42654  0  0  0  1  0  \n",
       "42655  0  0  0  1  0  \n",
       "\n",
       "[42656 rows x 9 columns]"
      ]
     },
     "execution_count": 23,
     "metadata": {},
     "output_type": "execute_result"
    }
   ],
   "source": [
    "# One Hot Encoding categorical variables\n",
    "one_hot = pd.get_dummies(df.Rating)\n",
    "\n",
    "# add to dataframe\n",
    "df = df.join(one_hot)\n",
    "df"
   ]
  },
  {
   "cell_type": "code",
   "execution_count": 26,
   "metadata": {},
   "outputs": [],
   "source": [
    "from keras.layers import Dense \n",
    "from keras.models import Sequential \n",
    "\n",
    "# pull a sample of one-hot encoded variables\n",
    "y_test2 = df[[1, 2, 3, 4, 5]].sample(n=5000)\n",
    "\n",
    "# define the keras model \n",
    "nn4 = Sequential() \n",
    "nn4.add(Dense(50, activation ='relu', input_shape = (10,19943)))\n",
    "nn4.add(Dense(5, activation ='relu')) \n",
    "nn4.add(Dense(5, activation ='sigmoid'))\n",
    "\n",
    "# complie the keras model\n",
    "nn4.compile(loss ='binary_crossentropy', \n",
    "            optimizer ='adam',\n",
    "            metrics =['accuracy'])"
   ]
  },
  {
   "cell_type": "code",
   "execution_count": 27,
   "metadata": {},
   "outputs": [
    {
     "name": "stdout",
     "output_type": "stream",
     "text": [
      "Epoch 1/25\n",
      "WARNING:tensorflow:Model was constructed with shape (None, 10, 19943) for input KerasTensor(type_spec=TensorSpec(shape=(None, 10, 19943), dtype=tf.float32, name='dense_3_input'), name='dense_3_input', description=\"created by layer 'dense_3_input'\"), but it was called on an input with incompatible shape (10, 19943).\n",
      "WARNING:tensorflow:Model was constructed with shape (None, 10, 19943) for input KerasTensor(type_spec=TensorSpec(shape=(None, 10, 19943), dtype=tf.float32, name='dense_3_input'), name='dense_3_input', description=\"created by layer 'dense_3_input'\"), but it was called on an input with incompatible shape (10, 19943).\n",
      "500/500 [==============================] - 20s 7ms/step - loss: 0.6594 - accuracy: 0.5169\n",
      "Epoch 2/25\n",
      "500/500 [==============================] - 4s 7ms/step - loss: 0.5556 - accuracy: 0.5278\n",
      "Epoch 3/25\n",
      "500/500 [==============================] - 4s 7ms/step - loss: 0.4534 - accuracy: 0.5392\n",
      "Epoch 4/25\n",
      "500/500 [==============================] - 4s 7ms/step - loss: 0.3738 - accuracy: 0.5586\n",
      "Epoch 5/25\n",
      "500/500 [==============================] - 3s 7ms/step - loss: 0.2896 - accuracy: 0.6944\n",
      "Epoch 6/25\n",
      "500/500 [==============================] - 4s 7ms/step - loss: 0.1990 - accuracy: 0.7650\n",
      "Epoch 7/25\n",
      "500/500 [==============================] - 4s 7ms/step - loss: 0.1295 - accuracy: 0.8816\n",
      "Epoch 8/25\n",
      "500/500 [==============================] - 4s 7ms/step - loss: 0.0835 - accuracy: 0.9529\n",
      "Epoch 9/25\n",
      "500/500 [==============================] - 4s 7ms/step - loss: 0.0472 - accuracy: 0.9850\n",
      "Epoch 10/25\n",
      "500/500 [==============================] - 4s 7ms/step - loss: 0.0296 - accuracy: 0.9936\n",
      "Epoch 11/25\n",
      "500/500 [==============================] - 4s 8ms/step - loss: 0.0193 - accuracy: 0.9979\n",
      "Epoch 12/25\n",
      "500/500 [==============================] - 4s 8ms/step - loss: 0.0117 - accuracy: 0.9991\n",
      "Epoch 13/25\n",
      "500/500 [==============================] - 4s 8ms/step - loss: 0.0080 - accuracy: 1.0000\n",
      "Epoch 14/25\n",
      "500/500 [==============================] - 4s 7ms/step - loss: 0.0050 - accuracy: 0.9997\n",
      "Epoch 15/25\n",
      "500/500 [==============================] - 4s 7ms/step - loss: 0.0034 - accuracy: 0.9997\n",
      "Epoch 16/25\n",
      "500/500 [==============================] - 4s 7ms/step - loss: 0.0021 - accuracy: 0.9999\n",
      "Epoch 17/25\n",
      "500/500 [==============================] - 4s 7ms/step - loss: 0.0015 - accuracy: 0.9998\n",
      "Epoch 18/25\n",
      "500/500 [==============================] - 3s 7ms/step - loss: 0.0011 - accuracy: 0.9999\n",
      "Epoch 19/25\n",
      "500/500 [==============================] - 4s 7ms/step - loss: 9.4504e-04 - accuracy: 0.9999\n",
      "Epoch 20/25\n",
      "500/500 [==============================] - 4s 7ms/step - loss: 5.7125e-04 - accuracy: 1.0000\n",
      "Epoch 21/25\n",
      "500/500 [==============================] - 4s 7ms/step - loss: 4.3601e-04 - accuracy: 1.0000\n",
      "Epoch 22/25\n",
      "500/500 [==============================] - 4s 7ms/step - loss: 2.8322e-04 - accuracy: 1.0000\n",
      "Epoch 23/25\n",
      "500/500 [==============================] - 4s 7ms/step - loss: 3.1513e-04 - accuracy: 1.0000\n",
      "Epoch 24/25\n",
      "500/500 [==============================] - 4s 7ms/step - loss: 2.0200e-04 - accuracy: 1.0000\n",
      "Epoch 25/25\n",
      "500/500 [==============================] - 4s 7ms/step - loss: 1.3966e-04 - accuracy: 1.0000\n"
     ]
    },
    {
     "data": {
      "text/plain": [
       "<keras.callbacks.History at 0x288e7d5fb80>"
      ]
     },
     "execution_count": 27,
     "metadata": {},
     "output_type": "execute_result"
    }
   ],
   "source": [
    "# fit the keras model on the dataset\n",
    "nn4.fit(tfidf_matrix2, y_test2, epochs=25, batch_size=10)"
   ]
  },
  {
   "cell_type": "code",
   "execution_count": 28,
   "metadata": {},
   "outputs": [
    {
     "name": "stdout",
     "output_type": "stream",
     "text": [
      "WARNING:tensorflow:Model was constructed with shape (None, 10, 19943) for input KerasTensor(type_spec=TensorSpec(shape=(None, 10, 19943), dtype=tf.float32, name='dense_3_input'), name='dense_3_input', description=\"created by layer 'dense_3_input'\"), but it was called on an input with incompatible shape (None, 19943).\n",
      "157/157 [==============================] - 1s 3ms/step - loss: 1.1910e-04 - accuracy: 1.0000\n",
      "Accuracy: 100.00\n"
     ]
    }
   ],
   "source": [
    "# evaluate the keras model to show metrics\n",
    "from sklearn.metrics import confusion_matrix, precision_score, recall_score, f1_score\n",
    "\n",
    "# accuracy\n",
    "_, accuracy = nn4.evaluate(tfidf_matrix2, y_test2)\n",
    "print('Accuracy: %.2f' % (accuracy*100))"
   ]
  },
  {
   "cell_type": "code",
   "execution_count": 29,
   "metadata": {},
   "outputs": [
    {
     "name": "stdout",
     "output_type": "stream",
     "text": [
      "WARNING:tensorflow:Model was constructed with shape (None, 10, 19943) for input KerasTensor(type_spec=TensorSpec(shape=(None, 10, 19943), dtype=tf.float32, name='dense_3_input'), name='dense_3_input', description=\"created by layer 'dense_3_input'\"), but it was called on an input with incompatible shape (None, 19943).\n",
      "Precision: 1.000000\n",
      "Recall: 1.000000\n",
      "F1 score: 1.000000\n"
     ]
    }
   ],
   "source": [
    "# make probability predictions with the model\n",
    "predicted4 = nn4.predict(tfidf_matrix2)\n",
    "\n",
    "# precision tp / (tp + fp)\n",
    "precision = precision_score(y_test2.values.argmax(axis=1), predicted4.argmax(axis=1), average='weighted')\n",
    "print('Precision: %f' % precision)\n",
    "# recall: tp / (tp + fn)\n",
    "recall = recall_score(y_test2.values.argmax(axis=1), predicted4.argmax(axis=1), average='weighted')\n",
    "print('Recall: %f' % recall)\n",
    "# f1: 2 tp / (2 tp + fp + fn)\n",
    "f1 = f1_score(y_test2.values.argmax(axis=1), predicted4.argmax(axis=1), average='weighted')\n",
    "print('F1 score: %f' % f1)"
   ]
  },
  {
   "cell_type": "code",
   "execution_count": 30,
   "metadata": {},
   "outputs": [
    {
     "data": {
      "text/plain": [
       "array([[ 189,    0,    0,    0,    0],\n",
       "       [   0,  245,    0,    0,    0],\n",
       "       [   0,    0,  634,    0,    0],\n",
       "       [   0,    0,    0, 1240,    0],\n",
       "       [   0,    0,    0,    0, 2692]], dtype=int64)"
      ]
     },
     "execution_count": 30,
     "metadata": {},
     "output_type": "execute_result"
    }
   ],
   "source": [
    "# print confusion matrix\n",
    "confusion_matrix(y_test2.values.argmax(axis=1), predicted4.argmax(axis=1))"
   ]
  },
  {
   "cell_type": "markdown",
   "metadata": {},
   "source": [
    "As we can see, even with a higher sample size, the Keras model did an amazing job at predicting ratings using the text data. This is a 100% accuracy which is quite surprizing. This model is much more effective than the Naive Bayes or SVM algorithms. We now have a pretty solid model that we can use toward solving our business problem. "
   ]
  },
  {
   "cell_type": "code",
   "execution_count": null,
   "metadata": {},
   "outputs": [],
   "source": []
  }
 ],
 "metadata": {
  "kernelspec": {
   "display_name": "Python 3 (ipykernel)",
   "language": "python",
   "name": "python3"
  },
  "language_info": {
   "codemirror_mode": {
    "name": "ipython",
    "version": 3
   },
   "file_extension": ".py",
   "mimetype": "text/x-python",
   "name": "python",
   "nbconvert_exporter": "python",
   "pygments_lexer": "ipython3",
   "version": "3.8.5"
  }
 },
 "nbformat": 4,
 "nbformat_minor": 4
}
